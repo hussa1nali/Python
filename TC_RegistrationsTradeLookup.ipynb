{
 "cells": [
  {
   "cell_type": "code",
   "execution_count": 4,
   "metadata": {},
   "outputs": [],
   "source": [
    "import pandas as pd\n",
    "import os\n",
    "import warnings\n",
    "\n",
    "\n",
    "# set the paths for the main dataset folder and the Trade_Cat.xlsx file\n",
    "data_folder = \"C:/Users/hussa/OneDrive - TAFE/Desktop/RAI Work/AO Corpex Report Automation/Static - Registrations\"\n",
    "trade_cat_file = \"C:/Users/hussa/OneDrive - TAFE/Desktop/RAI Work/AO Corpex Report Automation/Trade_categories/Trade_Cat.xlsx\"\n",
    "\n"
   ]
  },
  {
   "cell_type": "code",
   "execution_count": 9,
   "metadata": {},
   "outputs": [],
   "source": [
    "# create an empty dictionary to store the ID to Trade Category Id mappings\n",
    "id_to_trade_cat = {}\n",
    "\n",
    "# read the Trade_Cat.xlsx file and extract the ID to Trade Category Id mappings\n",
    "df_trade_cat = pd.read_excel(trade_cat_file)\n",
    "for index, row in df_trade_cat.iterrows():\n",
    "    id_to_trade_cat[row['ID']] = row['Trade Category Id']\n",
    "warnings.simplefilter(action='ignore', category=UserWarning)\n",
    "# loop through all the Excel files in the main dataset folder\n",
    "for filename in os.listdir(data_folder):\n",
    "    if filename.endswith(\".xlsx\"):\n",
    "        file_path = os.path.join(data_folder, filename)\n",
    "\n",
    "        # read the Excel file into a pandas dataframe\n",
    "        df = pd.read_excel(file_path)\n",
    "    warnings.simplefilter(action='ignore', category=UserWarning)\n",
    "\n"
   ]
  },
  {
   "cell_type": "code",
   "execution_count": 10,
   "metadata": {},
   "outputs": [
    {
     "name": "stdout",
     "output_type": "stream",
     "text": [
      "Quarter                                  2022Q1  2022Q2  2022Q3  2022Q4\n",
      "Trade Category Id                                                      \n",
      "Arts, Sport & Recreation                    262      68      40      23\n",
      "Automotive                                 1146     711     839     582\n",
      "Building & Construction                     998     628     888     524\n",
      "Community Services, Health & Education      824     795    1280     773\n",
      "Electrical                                  848     435     607     462\n",
      "Finance, Property & Business Services      1077    1057    1430     390\n",
      "Food                                        154     191     196      82\n",
      "Hospitality & Tourism                       936     668     864     538\n",
      "Light Manufacturing                         130      76     101      64\n",
      "Metals, Manufacturing & Services            968     553     677     534\n",
      "Mining Industry                             726     897     786     564\n",
      "Primary Industry                            260     144     173     133\n",
      "Process Manufacturing                       127     126     194     136\n",
      "Public Administration                       102      40      61      52\n",
      "Transport & Storage                         356     299     405     166\n",
      "Utilities, Electrotechnology & Printing     235     224     237      82\n",
      "Wholesale, Retail & Personal Services       896     718     917     438\n"
     ]
    }
   ],
   "source": [
    "# lookup the Trade Category Id for each ID in the \"ID (Traineeship/Apprenticeship) (Traineeship/Apprenticeship)\" column\n",
    "df['Trade Category Id'] = df['ID (Traineeship/Apprenticeship) (Traineeship/Apprenticeship)'].apply(lambda x: id_to_trade_cat.get(x))\n",
    "\n",
    "        # group the data by Trade Category Id, Year, and Quarter\n",
    "df['Year'] = pd.DatetimeIndex(df['Training Contract Registration Date']).year\n",
    "df['Quarter'] = pd.PeriodIndex(df['Training Contract Registration Date'], freq='Q')\n",
    "df = df.groupby(['Trade Category Id', 'Quarter']).size().reset_index(name='Count')\n",
    "\n",
    "        # create a pivot table to show the count for each Trade Category Id by Year and Quarter\n",
    "pivot_table = pd.pivot_table(df, values='Count', index=['Trade Category Id'], columns=['Quarter'], aggfunc='sum')\n",
    "\n",
    "        # print the pivot table\n",
    "print(pivot_table)"
   ]
  }
 ],
 "metadata": {
  "kernelspec": {
   "display_name": "Python 3",
   "language": "python",
   "name": "python3"
  },
  "language_info": {
   "codemirror_mode": {
    "name": "ipython",
    "version": 3
   },
   "file_extension": ".py",
   "mimetype": "text/x-python",
   "name": "python",
   "nbconvert_exporter": "python",
   "pygments_lexer": "ipython3",
   "version": "3.10.6"
  },
  "orig_nbformat": 4
 },
 "nbformat": 4,
 "nbformat_minor": 2
}
